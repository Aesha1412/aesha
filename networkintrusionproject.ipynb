{
 "cells": [
  {
   "cell_type": "markdown",
   "metadata": {},
   "source": [
    "# Decision Trees and Random Forests in Python"
   ]
  },
  {
   "cell_type": "code",
   "execution_count": 1,
   "metadata": {
    "collapsed": true
   },
   "outputs": [],
   "source": [
    "import pandas as pd \n",
    "import numpy as np \n",
    "from collections import Counter \n",
    "import matplotlib.pyplot as plt\n",
    "import seaborn as sns\n",
    "%matplotlib inline"
   ]
  },
  {
   "cell_type": "code",
   "execution_count": 2,
   "metadata": {
    "collapsed": true
   },
   "outputs": [],
   "source": [
    "#Read data \n",
    "nettrain = pd.read_csv(\"C:\\\\Users\\\\Aesha1\\\\Desktop\\\\pythonproject\\\\pythonnetworktrain.csv\")\n",
    "nettest = pd.read_csv(\"C:\\\\Users\\\\Aesha1\\\\Desktop\\\\pythonproject\\\\pythonnetworktest.csv\")"
   ]
  },
  {
   "cell_type": "code",
   "execution_count": 3,
   "metadata": {
    "collapsed": true
   },
   "outputs": [],
   "source": [
    "#merge dataframes\n",
    "all=pd.concat([nettrain,nettest],axis=0)\n",
    "all.reset_index(inplace=True,drop=True)"
   ]
  },
  {
   "cell_type": "code",
   "execution_count": 4,
   "metadata": {},
   "outputs": [
    {
     "data": {
      "text/plain": [
       "(47736, 42)"
      ]
     },
     "execution_count": 4,
     "metadata": {},
     "output_type": "execute_result"
    }
   ],
   "source": [
    "#Check structure of data\n",
    "all.shape"
   ]
  },
  {
   "cell_type": "code",
   "execution_count": 5,
   "metadata": {},
   "outputs": [
    {
     "data": {
      "text/html": [
       "<div>\n",
       "<style>\n",
       "    .dataframe thead tr:only-child th {\n",
       "        text-align: right;\n",
       "    }\n",
       "\n",
       "    .dataframe thead th {\n",
       "        text-align: left;\n",
       "    }\n",
       "\n",
       "    .dataframe tbody tr th {\n",
       "        vertical-align: top;\n",
       "    }\n",
       "</style>\n",
       "<table border=\"1\" class=\"dataframe\">\n",
       "  <thead>\n",
       "    <tr style=\"text-align: right;\">\n",
       "      <th></th>\n",
       "      <th>class</th>\n",
       "      <th>count</th>\n",
       "      <th>diff_srv_rate</th>\n",
       "      <th>dst_bytes</th>\n",
       "      <th>dst_host_count</th>\n",
       "      <th>dst_host_diff_srv_rate</th>\n",
       "      <th>dst_host_rerror_rate</th>\n",
       "      <th>dst_host_same_src_port_rate</th>\n",
       "      <th>dst_host_same_srv_rate</th>\n",
       "      <th>dst_host_serror_rate</th>\n",
       "      <th>...</th>\n",
       "      <th>serror_rate</th>\n",
       "      <th>service</th>\n",
       "      <th>src_bytes</th>\n",
       "      <th>srv_count</th>\n",
       "      <th>srv_diff_host_rate</th>\n",
       "      <th>srv_rerror_rate</th>\n",
       "      <th>srv_serror_rate</th>\n",
       "      <th>su_attempted</th>\n",
       "      <th>urgent</th>\n",
       "      <th>wrong_fragment</th>\n",
       "    </tr>\n",
       "  </thead>\n",
       "  <tbody>\n",
       "    <tr>\n",
       "      <th>0</th>\n",
       "      <td>normal</td>\n",
       "      <td>2</td>\n",
       "      <td>0.00</td>\n",
       "      <td>0</td>\n",
       "      <td>150</td>\n",
       "      <td>0.03</td>\n",
       "      <td>0.05</td>\n",
       "      <td>0.17</td>\n",
       "      <td>0.17</td>\n",
       "      <td>0.00</td>\n",
       "      <td>...</td>\n",
       "      <td>0.0</td>\n",
       "      <td>ftp_data</td>\n",
       "      <td>491</td>\n",
       "      <td>2</td>\n",
       "      <td>0.00</td>\n",
       "      <td>0.0</td>\n",
       "      <td>0.0</td>\n",
       "      <td>0</td>\n",
       "      <td>0</td>\n",
       "      <td>0</td>\n",
       "    </tr>\n",
       "    <tr>\n",
       "      <th>1</th>\n",
       "      <td>normal</td>\n",
       "      <td>13</td>\n",
       "      <td>0.15</td>\n",
       "      <td>0</td>\n",
       "      <td>255</td>\n",
       "      <td>0.60</td>\n",
       "      <td>0.00</td>\n",
       "      <td>0.88</td>\n",
       "      <td>0.00</td>\n",
       "      <td>0.00</td>\n",
       "      <td>...</td>\n",
       "      <td>0.0</td>\n",
       "      <td>other</td>\n",
       "      <td>146</td>\n",
       "      <td>1</td>\n",
       "      <td>0.00</td>\n",
       "      <td>0.0</td>\n",
       "      <td>0.0</td>\n",
       "      <td>0</td>\n",
       "      <td>0</td>\n",
       "      <td>0</td>\n",
       "    </tr>\n",
       "    <tr>\n",
       "      <th>2</th>\n",
       "      <td>anomaly</td>\n",
       "      <td>123</td>\n",
       "      <td>0.07</td>\n",
       "      <td>0</td>\n",
       "      <td>255</td>\n",
       "      <td>0.05</td>\n",
       "      <td>0.00</td>\n",
       "      <td>0.00</td>\n",
       "      <td>0.10</td>\n",
       "      <td>1.00</td>\n",
       "      <td>...</td>\n",
       "      <td>1.0</td>\n",
       "      <td>private</td>\n",
       "      <td>0</td>\n",
       "      <td>6</td>\n",
       "      <td>0.00</td>\n",
       "      <td>0.0</td>\n",
       "      <td>1.0</td>\n",
       "      <td>0</td>\n",
       "      <td>0</td>\n",
       "      <td>0</td>\n",
       "    </tr>\n",
       "    <tr>\n",
       "      <th>3</th>\n",
       "      <td>normal</td>\n",
       "      <td>5</td>\n",
       "      <td>0.00</td>\n",
       "      <td>8153</td>\n",
       "      <td>30</td>\n",
       "      <td>0.00</td>\n",
       "      <td>0.00</td>\n",
       "      <td>0.03</td>\n",
       "      <td>1.00</td>\n",
       "      <td>0.03</td>\n",
       "      <td>...</td>\n",
       "      <td>0.2</td>\n",
       "      <td>http</td>\n",
       "      <td>232</td>\n",
       "      <td>5</td>\n",
       "      <td>0.00</td>\n",
       "      <td>0.0</td>\n",
       "      <td>0.2</td>\n",
       "      <td>0</td>\n",
       "      <td>0</td>\n",
       "      <td>0</td>\n",
       "    </tr>\n",
       "    <tr>\n",
       "      <th>4</th>\n",
       "      <td>normal</td>\n",
       "      <td>30</td>\n",
       "      <td>0.00</td>\n",
       "      <td>420</td>\n",
       "      <td>255</td>\n",
       "      <td>0.00</td>\n",
       "      <td>0.00</td>\n",
       "      <td>0.00</td>\n",
       "      <td>1.00</td>\n",
       "      <td>0.00</td>\n",
       "      <td>...</td>\n",
       "      <td>0.0</td>\n",
       "      <td>http</td>\n",
       "      <td>199</td>\n",
       "      <td>32</td>\n",
       "      <td>0.09</td>\n",
       "      <td>0.0</td>\n",
       "      <td>0.0</td>\n",
       "      <td>0</td>\n",
       "      <td>0</td>\n",
       "      <td>0</td>\n",
       "    </tr>\n",
       "  </tbody>\n",
       "</table>\n",
       "<p>5 rows × 42 columns</p>\n",
       "</div>"
      ],
      "text/plain": [
       "     class  count  diff_srv_rate  dst_bytes  dst_host_count  \\\n",
       "0   normal      2           0.00          0             150   \n",
       "1   normal     13           0.15          0             255   \n",
       "2  anomaly    123           0.07          0             255   \n",
       "3   normal      5           0.00       8153              30   \n",
       "4   normal     30           0.00        420             255   \n",
       "\n",
       "   dst_host_diff_srv_rate  dst_host_rerror_rate  dst_host_same_src_port_rate  \\\n",
       "0                    0.03                  0.05                         0.17   \n",
       "1                    0.60                  0.00                         0.88   \n",
       "2                    0.05                  0.00                         0.00   \n",
       "3                    0.00                  0.00                         0.03   \n",
       "4                    0.00                  0.00                         0.00   \n",
       "\n",
       "   dst_host_same_srv_rate  dst_host_serror_rate       ...        serror_rate  \\\n",
       "0                    0.17                  0.00       ...                0.0   \n",
       "1                    0.00                  0.00       ...                0.0   \n",
       "2                    0.10                  1.00       ...                1.0   \n",
       "3                    1.00                  0.03       ...                0.2   \n",
       "4                    1.00                  0.00       ...                0.0   \n",
       "\n",
       "    service  src_bytes  srv_count  srv_diff_host_rate srv_rerror_rate  \\\n",
       "0  ftp_data        491          2                0.00             0.0   \n",
       "1     other        146          1                0.00             0.0   \n",
       "2   private          0          6                0.00             0.0   \n",
       "3      http        232          5                0.00             0.0   \n",
       "4      http        199         32                0.09             0.0   \n",
       "\n",
       "   srv_serror_rate  su_attempted  urgent  wrong_fragment  \n",
       "0              0.0             0       0               0  \n",
       "1              0.0             0       0               0  \n",
       "2              1.0             0       0               0  \n",
       "3              0.2             0       0               0  \n",
       "4              0.0             0       0               0  \n",
       "\n",
       "[5 rows x 42 columns]"
      ]
     },
     "execution_count": 5,
     "metadata": {},
     "output_type": "execute_result"
    }
   ],
   "source": [
    "all.head()"
   ]
  },
  {
   "cell_type": "code",
   "execution_count": 6,
   "metadata": {},
   "outputs": [
    {
     "name": "stdout",
     "output_type": "stream",
     "text": [
      "<class 'pandas.core.frame.DataFrame'>\n",
      "RangeIndex: 47736 entries, 0 to 47735\n",
      "Data columns (total 42 columns):\n",
      "class                          25192 non-null object\n",
      "count                          47736 non-null int64\n",
      "diff_srv_rate                  47736 non-null float64\n",
      "dst_bytes                      47736 non-null int64\n",
      "dst_host_count                 47736 non-null int64\n",
      "dst_host_diff_srv_rate         47736 non-null float64\n",
      "dst_host_rerror_rate           47736 non-null float64\n",
      "dst_host_same_src_port_rate    47736 non-null float64\n",
      "dst_host_same_srv_rate         47736 non-null float64\n",
      "dst_host_serror_rate           47736 non-null float64\n",
      "dst_host_srv_count             47736 non-null int64\n",
      "dst_host_srv_diff_host_rate    47736 non-null float64\n",
      "dst_host_srv_rerror_rate       47736 non-null float64\n",
      "dst_host_srv_serror_rate       47736 non-null float64\n",
      "duration                       47736 non-null int64\n",
      "flag                           47736 non-null object\n",
      "hot                            47736 non-null int64\n",
      "is_guest_login                 47736 non-null int64\n",
      "is_host_login                  47736 non-null int64\n",
      "land                           47736 non-null int64\n",
      "logged_in                      47736 non-null int64\n",
      "num_access_files               47736 non-null int64\n",
      "num_compromised                47736 non-null int64\n",
      "num_failed_logins              47736 non-null int64\n",
      "num_file_creations             47736 non-null int64\n",
      "num_outbound_cmds              47736 non-null int64\n",
      "num_root                       47736 non-null int64\n",
      "num_shells                     47736 non-null int64\n",
      "protocol_type                  47736 non-null object\n",
      "rerror_rate                    47736 non-null float64\n",
      "root_shell                     47736 non-null int64\n",
      "same_srv_rate                  47736 non-null float64\n",
      "serror_rate                    47736 non-null float64\n",
      "service                        47736 non-null object\n",
      "src_bytes                      47736 non-null int64\n",
      "srv_count                      47736 non-null int64\n",
      "srv_diff_host_rate             47736 non-null float64\n",
      "srv_rerror_rate                47736 non-null float64\n",
      "srv_serror_rate                47736 non-null float64\n",
      "su_attempted                   47736 non-null int64\n",
      "urgent                         47736 non-null int64\n",
      "wrong_fragment                 47736 non-null int64\n",
      "dtypes: float64(15), int64(23), object(4)\n",
      "memory usage: 15.3+ MB\n"
     ]
    }
   ],
   "source": [
    "#Check information of data.\n",
    "all.info()"
   ]
  },
  {
   "cell_type": "code",
   "execution_count": 7,
   "metadata": {},
   "outputs": [
    {
     "data": {
      "text/plain": [
       "class                          22544\n",
       "count                              0\n",
       "diff_srv_rate                      0\n",
       "dst_bytes                          0\n",
       "dst_host_count                     0\n",
       "dst_host_diff_srv_rate             0\n",
       "dst_host_rerror_rate               0\n",
       "dst_host_same_src_port_rate        0\n",
       "dst_host_same_srv_rate             0\n",
       "dst_host_serror_rate               0\n",
       "dst_host_srv_count                 0\n",
       "dst_host_srv_diff_host_rate        0\n",
       "dst_host_srv_rerror_rate           0\n",
       "dst_host_srv_serror_rate           0\n",
       "duration                           0\n",
       "flag                               0\n",
       "hot                                0\n",
       "is_guest_login                     0\n",
       "is_host_login                      0\n",
       "land                               0\n",
       "logged_in                          0\n",
       "num_access_files                   0\n",
       "num_compromised                    0\n",
       "num_failed_logins                  0\n",
       "num_file_creations                 0\n",
       "num_outbound_cmds                  0\n",
       "num_root                           0\n",
       "num_shells                         0\n",
       "protocol_type                      0\n",
       "rerror_rate                        0\n",
       "root_shell                         0\n",
       "same_srv_rate                      0\n",
       "serror_rate                        0\n",
       "service                            0\n",
       "src_bytes                          0\n",
       "srv_count                          0\n",
       "srv_diff_host_rate                 0\n",
       "srv_rerror_rate                    0\n",
       "srv_serror_rate                    0\n",
       "su_attempted                       0\n",
       "urgent                             0\n",
       "wrong_fragment                     0\n",
       "dtype: int64"
      ]
     },
     "execution_count": 7,
     "metadata": {},
     "output_type": "execute_result"
    }
   ],
   "source": [
    "#Check the value is null or not.\n",
    "all.isnull().sum()"
   ]
  },
  {
   "cell_type": "code",
   "execution_count": 8,
   "metadata": {},
   "outputs": [
    {
     "data": {
      "text/html": [
       "<div>\n",
       "<style>\n",
       "    .dataframe thead tr:only-child th {\n",
       "        text-align: right;\n",
       "    }\n",
       "\n",
       "    .dataframe thead th {\n",
       "        text-align: left;\n",
       "    }\n",
       "\n",
       "    .dataframe tbody tr th {\n",
       "        vertical-align: top;\n",
       "    }\n",
       "</style>\n",
       "<table border=\"1\" class=\"dataframe\">\n",
       "  <thead>\n",
       "    <tr style=\"text-align: right;\">\n",
       "      <th></th>\n",
       "      <th>count</th>\n",
       "      <th>diff_srv_rate</th>\n",
       "      <th>dst_bytes</th>\n",
       "      <th>dst_host_count</th>\n",
       "      <th>dst_host_diff_srv_rate</th>\n",
       "      <th>dst_host_rerror_rate</th>\n",
       "      <th>dst_host_same_src_port_rate</th>\n",
       "      <th>dst_host_same_srv_rate</th>\n",
       "      <th>dst_host_serror_rate</th>\n",
       "      <th>dst_host_srv_count</th>\n",
       "      <th>...</th>\n",
       "      <th>same_srv_rate</th>\n",
       "      <th>serror_rate</th>\n",
       "      <th>src_bytes</th>\n",
       "      <th>srv_count</th>\n",
       "      <th>srv_diff_host_rate</th>\n",
       "      <th>srv_rerror_rate</th>\n",
       "      <th>srv_serror_rate</th>\n",
       "      <th>su_attempted</th>\n",
       "      <th>urgent</th>\n",
       "      <th>wrong_fragment</th>\n",
       "    </tr>\n",
       "  </thead>\n",
       "  <tbody>\n",
       "    <tr>\n",
       "      <th>count</th>\n",
       "      <td>47736.000000</td>\n",
       "      <td>47736.000000</td>\n",
       "      <td>4.773600e+04</td>\n",
       "      <td>47736.000000</td>\n",
       "      <td>47736.000000</td>\n",
       "      <td>47736.000000</td>\n",
       "      <td>47736.000000</td>\n",
       "      <td>47736.000000</td>\n",
       "      <td>47736.000000</td>\n",
       "      <td>47736.000000</td>\n",
       "      <td>...</td>\n",
       "      <td>47736.000000</td>\n",
       "      <td>47736.000000</td>\n",
       "      <td>4.773600e+04</td>\n",
       "      <td>47736.000000</td>\n",
       "      <td>47736.000000</td>\n",
       "      <td>47736.000000</td>\n",
       "      <td>47736.000000</td>\n",
       "      <td>47736.000000</td>\n",
       "      <td>47736.000000</td>\n",
       "      <td>47736.000000</td>\n",
       "    </tr>\n",
       "    <tr>\n",
       "      <th>mean</th>\n",
       "      <td>81.964052</td>\n",
       "      <td>0.077339</td>\n",
       "      <td>2.813757e+03</td>\n",
       "      <td>187.886291</td>\n",
       "      <td>0.086317</td>\n",
       "      <td>0.172387</td>\n",
       "      <td>0.140278</td>\n",
       "      <td>0.561790</td>\n",
       "      <td>0.197021</td>\n",
       "      <td>127.194319</td>\n",
       "      <td>...</td>\n",
       "      <td>0.698239</td>\n",
       "      <td>0.199718</td>\n",
       "      <td>1.774954e+04</td>\n",
       "      <td>29.316554</td>\n",
       "      <td>0.096960</td>\n",
       "      <td>0.174532</td>\n",
       "      <td>0.198695</td>\n",
       "      <td>0.000838</td>\n",
       "      <td>0.000356</td>\n",
       "      <td>0.016507</td>\n",
       "    </tr>\n",
       "    <tr>\n",
       "      <th>std</th>\n",
       "      <td>121.449720</td>\n",
       "      <td>0.220879</td>\n",
       "      <td>6.616178e+04</td>\n",
       "      <td>96.848516</td>\n",
       "      <td>0.203750</td>\n",
       "      <td>0.351446</td>\n",
       "      <td>0.307468</td>\n",
       "      <td>0.444949</td>\n",
       "      <td>0.385606</td>\n",
       "      <td>111.921285</td>\n",
       "      <td>...</td>\n",
       "      <td>0.428884</td>\n",
       "      <td>0.393924</td>\n",
       "      <td>1.781220e+06</td>\n",
       "      <td>80.748559</td>\n",
       "      <td>0.255152</td>\n",
       "      <td>0.374076</td>\n",
       "      <td>0.394772</td>\n",
       "      <td>0.038285</td>\n",
       "      <td>0.025481</td>\n",
       "      <td>0.213064</td>\n",
       "    </tr>\n",
       "    <tr>\n",
       "      <th>min</th>\n",
       "      <td>0.000000</td>\n",
       "      <td>0.000000</td>\n",
       "      <td>0.000000e+00</td>\n",
       "      <td>0.000000</td>\n",
       "      <td>0.000000</td>\n",
       "      <td>0.000000</td>\n",
       "      <td>0.000000</td>\n",
       "      <td>0.000000</td>\n",
       "      <td>0.000000</td>\n",
       "      <td>0.000000</td>\n",
       "      <td>...</td>\n",
       "      <td>0.000000</td>\n",
       "      <td>0.000000</td>\n",
       "      <td>0.000000e+00</td>\n",
       "      <td>0.000000</td>\n",
       "      <td>0.000000</td>\n",
       "      <td>0.000000</td>\n",
       "      <td>0.000000</td>\n",
       "      <td>0.000000</td>\n",
       "      <td>0.000000</td>\n",
       "      <td>0.000000</td>\n",
       "    </tr>\n",
       "    <tr>\n",
       "      <th>25%</th>\n",
       "      <td>2.000000</td>\n",
       "      <td>0.000000</td>\n",
       "      <td>0.000000e+00</td>\n",
       "      <td>99.000000</td>\n",
       "      <td>0.000000</td>\n",
       "      <td>0.000000</td>\n",
       "      <td>0.000000</td>\n",
       "      <td>0.050000</td>\n",
       "      <td>0.000000</td>\n",
       "      <td>12.000000</td>\n",
       "      <td>...</td>\n",
       "      <td>0.120000</td>\n",
       "      <td>0.000000</td>\n",
       "      <td>0.000000e+00</td>\n",
       "      <td>2.000000</td>\n",
       "      <td>0.000000</td>\n",
       "      <td>0.000000</td>\n",
       "      <td>0.000000</td>\n",
       "      <td>0.000000</td>\n",
       "      <td>0.000000</td>\n",
       "      <td>0.000000</td>\n",
       "    </tr>\n",
       "    <tr>\n",
       "      <th>50%</th>\n",
       "      <td>11.000000</td>\n",
       "      <td>0.000000</td>\n",
       "      <td>3.600000e+01</td>\n",
       "      <td>255.000000</td>\n",
       "      <td>0.020000</td>\n",
       "      <td>0.000000</td>\n",
       "      <td>0.000000</td>\n",
       "      <td>0.760000</td>\n",
       "      <td>0.000000</td>\n",
       "      <td>98.000000</td>\n",
       "      <td>...</td>\n",
       "      <td>1.000000</td>\n",
       "      <td>0.000000</td>\n",
       "      <td>4.500000e+01</td>\n",
       "      <td>7.000000</td>\n",
       "      <td>0.000000</td>\n",
       "      <td>0.000000</td>\n",
       "      <td>0.000000</td>\n",
       "      <td>0.000000</td>\n",
       "      <td>0.000000</td>\n",
       "      <td>0.000000</td>\n",
       "    </tr>\n",
       "    <tr>\n",
       "      <th>75%</th>\n",
       "      <td>136.000000</td>\n",
       "      <td>0.060000</td>\n",
       "      <td>5.990000e+02</td>\n",
       "      <td>255.000000</td>\n",
       "      <td>0.070000</td>\n",
       "      <td>0.020000</td>\n",
       "      <td>0.040000</td>\n",
       "      <td>1.000000</td>\n",
       "      <td>0.020000</td>\n",
       "      <td>255.000000</td>\n",
       "      <td>...</td>\n",
       "      <td>1.000000</td>\n",
       "      <td>0.000000</td>\n",
       "      <td>2.840000e+02</td>\n",
       "      <td>17.000000</td>\n",
       "      <td>0.000000</td>\n",
       "      <td>0.000000</td>\n",
       "      <td>0.000000</td>\n",
       "      <td>0.000000</td>\n",
       "      <td>0.000000</td>\n",
       "      <td>0.000000</td>\n",
       "    </tr>\n",
       "    <tr>\n",
       "      <th>max</th>\n",
       "      <td>511.000000</td>\n",
       "      <td>1.000000</td>\n",
       "      <td>5.151385e+06</td>\n",
       "      <td>255.000000</td>\n",
       "      <td>1.000000</td>\n",
       "      <td>1.000000</td>\n",
       "      <td>1.000000</td>\n",
       "      <td>1.000000</td>\n",
       "      <td>1.000000</td>\n",
       "      <td>255.000000</td>\n",
       "      <td>...</td>\n",
       "      <td>1.000000</td>\n",
       "      <td>1.000000</td>\n",
       "      <td>3.817091e+08</td>\n",
       "      <td>511.000000</td>\n",
       "      <td>1.000000</td>\n",
       "      <td>1.000000</td>\n",
       "      <td>1.000000</td>\n",
       "      <td>2.000000</td>\n",
       "      <td>3.000000</td>\n",
       "      <td>3.000000</td>\n",
       "    </tr>\n",
       "  </tbody>\n",
       "</table>\n",
       "<p>8 rows × 38 columns</p>\n",
       "</div>"
      ],
      "text/plain": [
       "              count  diff_srv_rate     dst_bytes  dst_host_count  \\\n",
       "count  47736.000000   47736.000000  4.773600e+04    47736.000000   \n",
       "mean      81.964052       0.077339  2.813757e+03      187.886291   \n",
       "std      121.449720       0.220879  6.616178e+04       96.848516   \n",
       "min        0.000000       0.000000  0.000000e+00        0.000000   \n",
       "25%        2.000000       0.000000  0.000000e+00       99.000000   \n",
       "50%       11.000000       0.000000  3.600000e+01      255.000000   \n",
       "75%      136.000000       0.060000  5.990000e+02      255.000000   \n",
       "max      511.000000       1.000000  5.151385e+06      255.000000   \n",
       "\n",
       "       dst_host_diff_srv_rate  dst_host_rerror_rate  \\\n",
       "count            47736.000000          47736.000000   \n",
       "mean                 0.086317              0.172387   \n",
       "std                  0.203750              0.351446   \n",
       "min                  0.000000              0.000000   \n",
       "25%                  0.000000              0.000000   \n",
       "50%                  0.020000              0.000000   \n",
       "75%                  0.070000              0.020000   \n",
       "max                  1.000000              1.000000   \n",
       "\n",
       "       dst_host_same_src_port_rate  dst_host_same_srv_rate  \\\n",
       "count                 47736.000000            47736.000000   \n",
       "mean                      0.140278                0.561790   \n",
       "std                       0.307468                0.444949   \n",
       "min                       0.000000                0.000000   \n",
       "25%                       0.000000                0.050000   \n",
       "50%                       0.000000                0.760000   \n",
       "75%                       0.040000                1.000000   \n",
       "max                       1.000000                1.000000   \n",
       "\n",
       "       dst_host_serror_rate  dst_host_srv_count       ...        \\\n",
       "count          47736.000000        47736.000000       ...         \n",
       "mean               0.197021          127.194319       ...         \n",
       "std                0.385606          111.921285       ...         \n",
       "min                0.000000            0.000000       ...         \n",
       "25%                0.000000           12.000000       ...         \n",
       "50%                0.000000           98.000000       ...         \n",
       "75%                0.020000          255.000000       ...         \n",
       "max                1.000000          255.000000       ...         \n",
       "\n",
       "       same_srv_rate   serror_rate     src_bytes     srv_count  \\\n",
       "count   47736.000000  47736.000000  4.773600e+04  47736.000000   \n",
       "mean        0.698239      0.199718  1.774954e+04     29.316554   \n",
       "std         0.428884      0.393924  1.781220e+06     80.748559   \n",
       "min         0.000000      0.000000  0.000000e+00      0.000000   \n",
       "25%         0.120000      0.000000  0.000000e+00      2.000000   \n",
       "50%         1.000000      0.000000  4.500000e+01      7.000000   \n",
       "75%         1.000000      0.000000  2.840000e+02     17.000000   \n",
       "max         1.000000      1.000000  3.817091e+08    511.000000   \n",
       "\n",
       "       srv_diff_host_rate  srv_rerror_rate  srv_serror_rate  su_attempted  \\\n",
       "count        47736.000000     47736.000000     47736.000000  47736.000000   \n",
       "mean             0.096960         0.174532         0.198695      0.000838   \n",
       "std              0.255152         0.374076         0.394772      0.038285   \n",
       "min              0.000000         0.000000         0.000000      0.000000   \n",
       "25%              0.000000         0.000000         0.000000      0.000000   \n",
       "50%              0.000000         0.000000         0.000000      0.000000   \n",
       "75%              0.000000         0.000000         0.000000      0.000000   \n",
       "max              1.000000         1.000000         1.000000      2.000000   \n",
       "\n",
       "             urgent  wrong_fragment  \n",
       "count  47736.000000    47736.000000  \n",
       "mean       0.000356        0.016507  \n",
       "std        0.025481        0.213064  \n",
       "min        0.000000        0.000000  \n",
       "25%        0.000000        0.000000  \n",
       "50%        0.000000        0.000000  \n",
       "75%        0.000000        0.000000  \n",
       "max        3.000000        3.000000  \n",
       "\n",
       "[8 rows x 38 columns]"
      ]
     },
     "execution_count": 8,
     "metadata": {},
     "output_type": "execute_result"
    }
   ],
   "source": [
    "#Description of data.\n",
    "all.describe()"
   ]
  },
  {
   "cell_type": "code",
   "execution_count": 9,
   "metadata": {},
   "outputs": [
    {
     "data": {
      "text/plain": [
       "Index([u'class', u'count', u'diff_srv_rate', u'dst_bytes', u'dst_host_count',\n",
       "       u'dst_host_diff_srv_rate', u'dst_host_rerror_rate',\n",
       "       u'dst_host_same_src_port_rate', u'dst_host_same_srv_rate',\n",
       "       u'dst_host_serror_rate', u'dst_host_srv_count',\n",
       "       u'dst_host_srv_diff_host_rate', u'dst_host_srv_rerror_rate',\n",
       "       u'dst_host_srv_serror_rate', u'duration', u'flag', u'hot',\n",
       "       u'is_guest_login', u'is_host_login', u'land', u'logged_in',\n",
       "       u'num_access_files', u'num_compromised', u'num_failed_logins',\n",
       "       u'num_file_creations', u'num_outbound_cmds', u'num_root', u'num_shells',\n",
       "       u'protocol_type', u'rerror_rate', u'root_shell', u'same_srv_rate',\n",
       "       u'serror_rate', u'service', u'src_bytes', u'srv_count',\n",
       "       u'srv_diff_host_rate', u'srv_rerror_rate', u'srv_serror_rate',\n",
       "       u'su_attempted', u'urgent', u'wrong_fragment'],\n",
       "      dtype='object')"
      ]
     },
     "execution_count": 9,
     "metadata": {},
     "output_type": "execute_result"
    }
   ],
   "source": [
    "all.columns"
   ]
  },
  {
   "cell_type": "code",
   "execution_count": null,
   "metadata": {
    "collapsed": true
   },
   "outputs": [],
   "source": [
    "#identify the categorical & the continuous variables"
   ]
  },
  {
   "cell_type": "code",
   "execution_count": 10,
   "metadata": {},
   "outputs": [
    {
     "data": {
      "text/html": [
       "<div>\n",
       "<style>\n",
       "    .dataframe thead tr:only-child th {\n",
       "        text-align: right;\n",
       "    }\n",
       "\n",
       "    .dataframe thead th {\n",
       "        text-align: left;\n",
       "    }\n",
       "\n",
       "    .dataframe tbody tr th {\n",
       "        vertical-align: top;\n",
       "    }\n",
       "</style>\n",
       "<table border=\"1\" class=\"dataframe\">\n",
       "  <thead>\n",
       "    <tr style=\"text-align: right;\">\n",
       "      <th></th>\n",
       "      <th>class</th>\n",
       "      <th>flag</th>\n",
       "      <th>protocol_type</th>\n",
       "      <th>service</th>\n",
       "    </tr>\n",
       "  </thead>\n",
       "  <tbody>\n",
       "    <tr>\n",
       "      <th>0</th>\n",
       "      <td>normal</td>\n",
       "      <td>SF</td>\n",
       "      <td>tcp</td>\n",
       "      <td>ftp_data</td>\n",
       "    </tr>\n",
       "    <tr>\n",
       "      <th>1</th>\n",
       "      <td>normal</td>\n",
       "      <td>SF</td>\n",
       "      <td>udp</td>\n",
       "      <td>other</td>\n",
       "    </tr>\n",
       "    <tr>\n",
       "      <th>2</th>\n",
       "      <td>anomaly</td>\n",
       "      <td>S0</td>\n",
       "      <td>tcp</td>\n",
       "      <td>private</td>\n",
       "    </tr>\n",
       "    <tr>\n",
       "      <th>3</th>\n",
       "      <td>normal</td>\n",
       "      <td>SF</td>\n",
       "      <td>tcp</td>\n",
       "      <td>http</td>\n",
       "    </tr>\n",
       "    <tr>\n",
       "      <th>4</th>\n",
       "      <td>normal</td>\n",
       "      <td>SF</td>\n",
       "      <td>tcp</td>\n",
       "      <td>http</td>\n",
       "    </tr>\n",
       "  </tbody>\n",
       "</table>\n",
       "</div>"
      ],
      "text/plain": [
       "     class flag protocol_type   service\n",
       "0   normal   SF           tcp  ftp_data\n",
       "1   normal   SF           udp     other\n",
       "2  anomaly   S0           tcp   private\n",
       "3   normal   SF           tcp      http\n",
       "4   normal   SF           tcp      http"
      ]
     },
     "execution_count": 10,
     "metadata": {},
     "output_type": "execute_result"
    }
   ],
   "source": [
    "all.select_dtypes(include=['object']).head()\n",
    "#df.select_dtypes(include=[np.number]) "
   ]
  },
  {
   "cell_type": "code",
   "execution_count": null,
   "metadata": {
    "collapsed": true
   },
   "outputs": [],
   "source": [
    "# barplots of each categorical columns"
   ]
  },
  {
   "cell_type": "code",
   "execution_count": 11,
   "metadata": {},
   "outputs": [
    {
     "name": "stdout",
     "output_type": "stream",
     "text": [
      "normal     13449\n",
      "anomaly    11743\n",
      "Name: class, dtype: int64\n",
      "\n",
      "\n",
      "Counter({nan: 22544, 'normal': 13449, 'anomaly': 11743})\n"
     ]
    }
   ],
   "source": [
    "print all['class'].value_counts()\n",
    "print(\"\\n\") \n",
    "print Counter(all['class'])"
   ]
  },
  {
   "cell_type": "code",
   "execution_count": 12,
   "metadata": {},
   "outputs": [
    {
     "data": {
      "text/plain": [
       "<matplotlib.axes._subplots.AxesSubplot at 0xc809208>"
      ]
     },
     "execution_count": 12,
     "metadata": {},
     "output_type": "execute_result"
    },
    {
     "data": {
      "image/png": "[encoded data removed]",
      "text/plain": [
       "<matplotlib.figure.Figure at 0x621db00>"
      ]
     },
     "metadata": {},
     "output_type": "display_data"
    }
   ],
   "source": [
    "sns.countplot(all['class'])"
   ]
  },
  {
   "cell_type": "code",
   "execution_count": 13,
   "metadata": {},
   "outputs": [
    {
     "data": {
      "text/plain": [
       "<matplotlib.axes._subplots.AxesSubplot at 0xc892438>"
      ]
     },
     "execution_count": 13,
     "metadata": {},
     "output_type": "execute_result"
    },
    {
     "data": {
      "image/png": "[encoded data removed]",
      "text/plain": [
       "<matplotlib.figure.Figure at 0xef009e8>"
      ]
     },
     "metadata": {},
     "output_type": "display_data"
    }
   ],
   "source": [
    "sns.countplot(\"protocol_type\",hue=\"class\",data=all)\n",
    "# what does this tell us?\n",
    "# this protocol type important is important or not?\n",
    "#yes esp udp and icmp as most of them are normal & anamaly repectively"
   ]
  },
  {
   "cell_type": "code",
   "execution_count": 14,
   "metadata": {},
   "outputs": [
    {
     "data": {
      "text/plain": [
       "<matplotlib.axes._subplots.AxesSubplot at 0xc8ad630>"
      ]
     },
     "execution_count": 14,
     "metadata": {},
     "output_type": "execute_result"
    },
    {
     "data": {
      "image/png": "[encoded data removed]",
      "text/plain": [
       "<matplotlib.figure.Figure at 0xc8094a8>"
      ]
     },
     "metadata": {},
     "output_type": "display_data"
    }
   ],
   "source": [
    "sns.countplot(\"service\",hue=\"class\",data=all)"
   ]
  },
  {
   "cell_type": "code",
   "execution_count": 15,
   "metadata": {},
   "outputs": [
    {
     "data": {
      "text/plain": [
       "http           15856\n",
       "private         9125\n",
       "domain_u        2714\n",
       "smtp            2383\n",
       "ftp_data        2247\n",
       "telnet          2109\n",
       "other           1696\n",
       "ecr_i           1365\n",
       "eco_i           1171\n",
       "pop_3           1072\n",
       "ftp             1037\n",
       "finger           502\n",
       "imap4            444\n",
       "auth             256\n",
       "sunrpc           226\n",
       "Z39_50           217\n",
       "uucp             207\n",
       "courier          204\n",
       "bgp              192\n",
       "time             191\n",
       "whois            185\n",
       "iso_tsap         179\n",
       "uucp_path        179\n",
       "ctf              168\n",
       "nnsp             165\n",
       "domain           160\n",
       "vmnet            150\n",
       "http_443         149\n",
       "urp_i            147\n",
       "csnet_ns         145\n",
       "               ...  \n",
       "mtp              122\n",
       "systat           120\n",
       "hostnames        119\n",
       "exec             118\n",
       "klogin           113\n",
       "netbios_ns       112\n",
       "netbios_dgm      110\n",
       "ldap             109\n",
       "login            108\n",
       "netstat          104\n",
       "echo             102\n",
       "kshell            91\n",
       "ssh               84\n",
       "nntp              82\n",
       "netbios_ssn       82\n",
       "sql_net           64\n",
       "IRC               53\n",
       "ntp_u             42\n",
       "X11               37\n",
       "remote_job        31\n",
       "pop_2             30\n",
       "rje               28\n",
       "shell             27\n",
       "printer           23\n",
       "pm_dump           19\n",
       "tim_i              8\n",
       "urh_i              4\n",
       "red_i              3\n",
       "http_8001          1\n",
       "tftp_u             1\n",
       "Name: service, Length: 67, dtype: int64"
      ]
     },
     "execution_count": 15,
     "metadata": {},
     "output_type": "execute_result"
    }
   ],
   "source": [
    "all['service'].value_counts()"
   ]
  },
  {
   "cell_type": "code",
   "execution_count": 16,
   "metadata": {},
   "outputs": [
    {
     "data": {
      "text/plain": [
       "<matplotlib.axes._subplots.AxesSubplot at 0xf2eb358>"
      ]
     },
     "execution_count": 16,
     "metadata": {},
     "output_type": "execute_result"
    },
    {
     "data": {
      "image/png": "[encoded data removed]",
      "text/plain": [
       "<matplotlib.figure.Figure at 0xc7ff630>"
      ]
     },
     "metadata": {},
     "output_type": "display_data"
    }
   ],
   "source": [
    "sns.countplot(\"flag\",hue=\"class\",data=all)"
   ]
  },
  {
   "cell_type": "code",
   "execution_count": 17,
   "metadata": {},
   "outputs": [
    {
     "data": {
      "text/plain": [
       "SF        29848\n",
       "S0         9022\n",
       "REJ        6066\n",
       "RSTR       1166\n",
       "RSTO       1077\n",
       "S3          264\n",
       "SH          116\n",
       "S1          109\n",
       "S2           36\n",
       "RSTOS0       23\n",
       "OTH           9\n",
       "Name: flag, dtype: int64"
      ]
     },
     "execution_count": 17,
     "metadata": {},
     "output_type": "execute_result"
    }
   ],
   "source": [
    "all['flag'].value_counts()"
   ]
  },
  {
   "cell_type": "markdown",
   "metadata": {
    "collapsed": true
   },
   "source": [
    "# Run Normal decision tree using all variable."
   ]
  },
  {
   "cell_type": "code",
   "execution_count": 18,
   "metadata": {
    "collapsed": true
   },
   "outputs": [],
   "source": [
    "from sklearn.tree import DecisionTreeClassifier"
   ]
  },
  {
   "cell_type": "code",
   "execution_count": 19,
   "metadata": {
    "collapsed": true
   },
   "outputs": [],
   "source": [
    "dtree = DecisionTreeClassifier()"
   ]
  },
  {
   "cell_type": "code",
   "execution_count": 20,
   "metadata": {
    "collapsed": true
   },
   "outputs": [],
   "source": [
    "# convert the categorical variables to dummy variables\n",
    "dum1=pd.get_dummies(all['flag'],drop_first=True)\n",
    "dum2=pd.get_dummies(all['service'],drop_first=True)\n",
    "dum3=pd.get_dummies(all['protocol_type'],drop_first=True)\n",
    "#add all the dummy variable to the original data frame\n",
    "df_new=pd.concat([all,dum1,dum2,dum3],axis=1)"
   ]
  },
  {
   "cell_type": "code",
   "execution_count": 90,
   "metadata": {
    "collapsed": true
   },
   "outputs": [],
   "source": [
    "#split data back into the same train and test"
   ]
  },
  {
   "cell_type": "code",
   "execution_count": 21,
   "metadata": {
    "collapsed": true
   },
   "outputs": [],
   "source": [
    "train_new=df_new.head(len(nettrain))\n",
    "test_new=df_new.tail(len(nettest))"
   ]
  },
  {
   "cell_type": "code",
   "execution_count": 22,
   "metadata": {
    "collapsed": true
   },
   "outputs": [],
   "source": [
    "X_train=train_new.drop(['class','service','flag','protocol_type'],axis=1)\n",
    "y_train=train_new['class']\n",
    "X_test=test_new.drop(['class','service','flag','protocol_type'],axis=1)\n",
    "y_test=test_new['class']"
   ]
  },
  {
   "cell_type": "code",
   "execution_count": 23,
   "metadata": {},
   "outputs": [
    {
     "data": {
      "text/plain": [
       "DecisionTreeClassifier(class_weight=None, criterion='gini', max_depth=None,\n",
       "            max_features=None, max_leaf_nodes=None,\n",
       "            min_impurity_decrease=0.0, min_impurity_split=None,\n",
       "            min_samples_leaf=1, min_samples_split=2,\n",
       "            min_weight_fraction_leaf=0.0, presort=False, random_state=None,\n",
       "            splitter='best')"
      ]
     },
     "execution_count": 23,
     "metadata": {},
     "output_type": "execute_result"
    }
   ],
   "source": [
    "dtree.fit(X_train,y_train)"
   ]
  },
  {
   "cell_type": "markdown",
   "metadata": {},
   "source": [
    "# Prediction and Evaluation"
   ]
  },
  {
   "cell_type": "code",
   "execution_count": 24,
   "metadata": {
    "collapsed": true
   },
   "outputs": [],
   "source": [
    "predictions = dtree.predict(X_test)"
   ]
  },
  {
   "cell_type": "code",
   "execution_count": 25,
   "metadata": {
    "collapsed": true
   },
   "outputs": [],
   "source": [
    "from sklearn.metrics import classification_report,confusion_matrix"
   ]
  },
  {
   "cell_type": "code",
   "execution_count": 26,
   "metadata": {},
   "outputs": [
    {
     "ename": "ValueError",
     "evalue": "Mix type of y not allowed, got types set(['unknown', 'binary'])",
     "output_type": "error",
     "traceback": [
      "\u001b[1;31m---------------------------------------------------------------------------\u001b[0m",
      "\u001b[1;31mValueError\u001b[0m                                Traceback (most recent call last)",
      "\u001b[1;32m<ipython-input-26-6fe25b95881c>\u001b[0m in \u001b[0;36m<module>\u001b[1;34m()\u001b[0m\n\u001b[1;32m----> 1\u001b[1;33m \u001b[1;32mprint\u001b[0m\u001b[1;33m(\u001b[0m\u001b[0mclassification_report\u001b[0m\u001b[1;33m(\u001b[0m\u001b[0my_test\u001b[0m\u001b[1;33m,\u001b[0m\u001b[0mpredictions\u001b[0m\u001b[1;33m)\u001b[0m\u001b[1;33m)\u001b[0m\u001b[1;33m\u001b[0m\u001b[0m\n\u001b[0m",
      "\u001b[1;32mC:\\Users\\Aesha1\\Anaconda2\\lib\\site-packages\\sklearn\\metrics\\classification.pyc\u001b[0m in \u001b[0;36mclassification_report\u001b[1;34m(y_true, y_pred, labels, target_names, sample_weight, digits)\u001b[0m\n\u001b[0;32m   1419\u001b[0m \u001b[1;33m\u001b[0m\u001b[0m\n\u001b[0;32m   1420\u001b[0m     \u001b[1;32mif\u001b[0m \u001b[0mlabels\u001b[0m \u001b[1;32mis\u001b[0m \u001b[0mNone\u001b[0m\u001b[1;33m:\u001b[0m\u001b[1;33m\u001b[0m\u001b[0m\n\u001b[1;32m-> 1421\u001b[1;33m         \u001b[0mlabels\u001b[0m \u001b[1;33m=\u001b[0m \u001b[0munique_labels\u001b[0m\u001b[1;33m(\u001b[0m\u001b[0my_true\u001b[0m\u001b[1;33m,\u001b[0m \u001b[0my_pred\u001b[0m\u001b[1;33m)\u001b[0m\u001b[1;33m\u001b[0m\u001b[0m\n\u001b[0m\u001b[0;32m   1422\u001b[0m     \u001b[1;32melse\u001b[0m\u001b[1;33m:\u001b[0m\u001b[1;33m\u001b[0m\u001b[0m\n\u001b[0;32m   1423\u001b[0m         \u001b[0mlabels\u001b[0m \u001b[1;33m=\u001b[0m \u001b[0mnp\u001b[0m\u001b[1;33m.\u001b[0m\u001b[0masarray\u001b[0m\u001b[1;33m(\u001b[0m\u001b[0mlabels\u001b[0m\u001b[1;33m)\u001b[0m\u001b[1;33m\u001b[0m\u001b[0m\n",
      "\u001b[1;32mC:\\Users\\Aesha1\\Anaconda2\\lib\\site-packages\\sklearn\\utils\\multiclass.pyc\u001b[0m in \u001b[0;36munique_labels\u001b[1;34m(*ys)\u001b[0m\n\u001b[0;32m     81\u001b[0m \u001b[1;33m\u001b[0m\u001b[0m\n\u001b[0;32m     82\u001b[0m     \u001b[1;32mif\u001b[0m \u001b[0mlen\u001b[0m\u001b[1;33m(\u001b[0m\u001b[0mys_types\u001b[0m\u001b[1;33m)\u001b[0m \u001b[1;33m>\u001b[0m \u001b[1;36m1\u001b[0m\u001b[1;33m:\u001b[0m\u001b[1;33m\u001b[0m\u001b[0m\n\u001b[1;32m---> 83\u001b[1;33m         \u001b[1;32mraise\u001b[0m \u001b[0mValueError\u001b[0m\u001b[1;33m(\u001b[0m\u001b[1;34m\"Mix type of y not allowed, got types %s\"\u001b[0m \u001b[1;33m%\u001b[0m \u001b[0mys_types\u001b[0m\u001b[1;33m)\u001b[0m\u001b[1;33m\u001b[0m\u001b[0m\n\u001b[0m\u001b[0;32m     84\u001b[0m \u001b[1;33m\u001b[0m\u001b[0m\n\u001b[0;32m     85\u001b[0m     \u001b[0mlabel_type\u001b[0m \u001b[1;33m=\u001b[0m \u001b[0mys_types\u001b[0m\u001b[1;33m.\u001b[0m\u001b[0mpop\u001b[0m\u001b[1;33m(\u001b[0m\u001b[1;33m)\u001b[0m\u001b[1;33m\u001b[0m\u001b[0m\n",
      "\u001b[1;31mValueError\u001b[0m: Mix type of y not allowed, got types set(['unknown', 'binary'])"
     ]
    }
   ],
   "source": [
    "print(classification_report(y_test,predictions))"
   ]
  },
  {
   "cell_type": "code",
   "execution_count": 27,
   "metadata": {},
   "outputs": [
    {
     "ename": "ValueError",
     "evalue": "Classification metrics can't handle a mix of unknown and binary targets",
     "output_type": "error",
     "traceback": [
      "\u001b[1;31m---------------------------------------------------------------------------\u001b[0m",
      "\u001b[1;31mValueError\u001b[0m                                Traceback (most recent call last)",
      "\u001b[1;32m<ipython-input-27-c38615369144>\u001b[0m in \u001b[0;36m<module>\u001b[1;34m()\u001b[0m\n\u001b[1;32m----> 1\u001b[1;33m \u001b[1;32mprint\u001b[0m\u001b[1;33m(\u001b[0m\u001b[0mconfusion_matrix\u001b[0m\u001b[1;33m(\u001b[0m\u001b[0my_test\u001b[0m\u001b[1;33m,\u001b[0m\u001b[0mpredictions\u001b[0m\u001b[1;33m)\u001b[0m\u001b[1;33m)\u001b[0m\u001b[1;33m\u001b[0m\u001b[0m\n\u001b[0m",
      "\u001b[1;32mC:\\Users\\Aesha1\\Anaconda2\\lib\\site-packages\\sklearn\\metrics\\classification.pyc\u001b[0m in \u001b[0;36mconfusion_matrix\u001b[1;34m(y_true, y_pred, labels, sample_weight)\u001b[0m\n\u001b[0;32m    248\u001b[0m \u001b[1;33m\u001b[0m\u001b[0m\n\u001b[0;32m    249\u001b[0m     \"\"\"\n\u001b[1;32m--> 250\u001b[1;33m     \u001b[0my_type\u001b[0m\u001b[1;33m,\u001b[0m \u001b[0my_true\u001b[0m\u001b[1;33m,\u001b[0m \u001b[0my_pred\u001b[0m \u001b[1;33m=\u001b[0m \u001b[0m_check_targets\u001b[0m\u001b[1;33m(\u001b[0m\u001b[0my_true\u001b[0m\u001b[1;33m,\u001b[0m \u001b[0my_pred\u001b[0m\u001b[1;33m)\u001b[0m\u001b[1;33m\u001b[0m\u001b[0m\n\u001b[0m\u001b[0;32m    251\u001b[0m     \u001b[1;32mif\u001b[0m \u001b[0my_type\u001b[0m \u001b[1;32mnot\u001b[0m \u001b[1;32min\u001b[0m \u001b[1;33m(\u001b[0m\u001b[1;34m\"binary\"\u001b[0m\u001b[1;33m,\u001b[0m \u001b[1;34m\"multiclass\"\u001b[0m\u001b[1;33m)\u001b[0m\u001b[1;33m:\u001b[0m\u001b[1;33m\u001b[0m\u001b[0m\n\u001b[0;32m    252\u001b[0m         \u001b[1;32mraise\u001b[0m \u001b[0mValueError\u001b[0m\u001b[1;33m(\u001b[0m\u001b[1;34m\"%s is not supported\"\u001b[0m \u001b[1;33m%\u001b[0m \u001b[0my_type\u001b[0m\u001b[1;33m)\u001b[0m\u001b[1;33m\u001b[0m\u001b[0m\n",
      "\u001b[1;32mC:\\Users\\Aesha1\\Anaconda2\\lib\\site-packages\\sklearn\\metrics\\classification.pyc\u001b[0m in \u001b[0;36m_check_targets\u001b[1;34m(y_true, y_pred)\u001b[0m\n\u001b[0;32m     79\u001b[0m     \u001b[1;32mif\u001b[0m \u001b[0mlen\u001b[0m\u001b[1;33m(\u001b[0m\u001b[0my_type\u001b[0m\u001b[1;33m)\u001b[0m \u001b[1;33m>\u001b[0m \u001b[1;36m1\u001b[0m\u001b[1;33m:\u001b[0m\u001b[1;33m\u001b[0m\u001b[0m\n\u001b[0;32m     80\u001b[0m         raise ValueError(\"Classification metrics can't handle a mix of {0} \"\n\u001b[1;32m---> 81\u001b[1;33m                          \"and {1} targets\".format(type_true, type_pred))\n\u001b[0m\u001b[0;32m     82\u001b[0m \u001b[1;33m\u001b[0m\u001b[0m\n\u001b[0;32m     83\u001b[0m     \u001b[1;31m# We can't have more than one value on y_type => The set is no more needed\u001b[0m\u001b[1;33m\u001b[0m\u001b[1;33m\u001b[0m\u001b[0m\n",
      "\u001b[1;31mValueError\u001b[0m: Classification metrics can't handle a mix of unknown and binary targets"
     ]
    }
   ],
   "source": [
    "print(confusion_matrix(y_test,predictions))"
   ]
  },
  {
   "cell_type": "markdown",
   "metadata": {},
   "source": [
    "# Tree Visualization¶"
   ]
  },
  {
   "cell_type": "code",
   "execution_count": 124,
   "metadata": {
    "collapsed": true
   },
   "outputs": [],
   "source": [
    "from IPython.display import Image  \n",
    "from sklearn.externals.six import StringIO  \n",
    "from sklearn.tree import export_graphviz\n",
    "import pydot "
   ]
  },
  {
   "cell_type": "code",
   "execution_count": 118,
   "metadata": {},
   "outputs": [
    {
     "data": {
      "text/plain": [
       "['duration',\n",
       " 'protocol_type',\n",
       " 'service',\n",
       " 'flag',\n",
       " 'src_bytes',\n",
       " 'dst_bytes',\n",
       " 'land',\n",
       " 'wrong_fragment',\n",
       " 'urgent',\n",
       " 'hot',\n",
       " 'num_failed_logins',\n",
       " 'logged_in',\n",
       " 'num_compromised',\n",
       " 'root_shell',\n",
       " 'su_attempted',\n",
       " 'num_root',\n",
       " 'num_file_creations',\n",
       " 'num_shells',\n",
       " 'num_access_files',\n",
       " 'num_outbound_cmds',\n",
       " 'is_host_login',\n",
       " 'is_guest_login',\n",
       " 'count',\n",
       " 'srv_count',\n",
       " 'serror_rate',\n",
       " 'srv_serror_rate',\n",
       " 'rerror_rate',\n",
       " 'srv_rerror_rate',\n",
       " 'same_srv_rate',\n",
       " 'diff_srv_rate',\n",
       " 'srv_diff_host_rate',\n",
       " 'dst_host_count',\n",
       " 'dst_host_srv_count',\n",
       " 'dst_host_same_srv_rate',\n",
       " 'dst_host_diff_srv_rate',\n",
       " 'dst_host_same_src_port_rate',\n",
       " 'dst_host_srv_diff_host_rate',\n",
       " 'dst_host_serror_rate',\n",
       " 'dst_host_srv_serror_rate',\n",
       " 'dst_host_rerror_rate',\n",
       " 'dst_host_srv_rerror_rate']"
      ]
     },
     "execution_count": 118,
     "metadata": {},
     "output_type": "execute_result"
    }
   ],
   "source": [
    "features = list(train.columns[0:-1])"
   ]
  },
  {
   "cell_type": "code",
   "execution_count": 132,
   "metadata": {
    "collapsed": true
   },
   "outputs": [],
   "source": [
    "from sklearn import tree\n",
    "tree.export_graphviz(dtree,out_file='tree.dot')   "
   ]
  },
  {
   "cell_type": "markdown",
   "metadata": {},
   "source": [
    "# Random Forests"
   ]
  },
  {
   "cell_type": "code",
   "execution_count": 150,
   "metadata": {},
   "outputs": [
    {
     "data": {
      "text/plain": [
       "RandomForestClassifier(bootstrap=True, class_weight=None, criterion='gini',\n",
       "            max_depth=None, max_features=10, max_leaf_nodes=None,\n",
       "            min_samples_leaf=1, min_samples_split=2,\n",
       "            min_weight_fraction_leaf=0.0, n_estimators=500, n_jobs=1,\n",
       "            oob_score=True, random_state=None, verbose=0, warm_start=False)"
      ]
     },
     "execution_count": 150,
     "metadata": {},
     "output_type": "execute_result"
    }
   ],
   "source": [
    "from sklearn.ensemble import RandomForestClassifier\n",
    "rfc = RandomForestClassifier(n_estimators=500,mx_features=10)\n",
    "rfc.fit(X_train, y_train)"
   ]
  },
  {
   "cell_type": "code",
   "execution_count": 151,
   "metadata": {
    "collapsed": true
   },
   "outputs": [],
   "source": [
    "rfc_pred = rfc.predict(X_test)"
   ]
  },
  {
   "cell_type": "code",
   "execution_count": 152,
   "metadata": {},
   "outputs": [
    {
     "name": "stdout",
     "output_type": "stream",
     "text": [
      "[[8183 4650]\n",
      " [ 257 9454]]\n"
     ]
    }
   ],
   "source": [
    "print(confusion_matrix(y_test,rfc_pred))"
   ]
  },
  {
   "cell_type": "code",
   "execution_count": 153,
   "metadata": {},
   "outputs": [
    {
     "name": "stdout",
     "output_type": "stream",
     "text": [
      "             precision    recall  f1-score   support\n",
      "\n",
      "    anomaly       0.97      0.64      0.77     12833\n",
      "     normal       0.67      0.97      0.79      9711\n",
      "\n",
      "avg / total       0.84      0.78      0.78     22544\n",
      "\n"
     ]
    }
   ],
   "source": [
    "print(classification_report(y_test,rfc_pred))"
   ]
  },
  {
   "cell_type": "code",
   "execution_count": null,
   "metadata": {
    "collapsed": true
   },
   "outputs": [],
   "source": []
  },
  {
   "cell_type": "code",
   "execution_count": 165,
   "metadata": {
    "collapsed": true
   },
   "outputs": [],
   "source": [
    "importances = rfc.feature_importances_\n",
    "std = np.std([tree.feature_importances_ for tree in rfc.estimators_],\n",
    "             axis=0)\n",
    "indices = np.argsort(importances)[::-1]"
   ]
  },
  {
   "cell_type": "code",
   "execution_count": null,
   "metadata": {
    "collapsed": true
   },
   "outputs": [],
   "source": []
  },
  {
   "cell_type": "code",
   "execution_count": 177,
   "metadata": {},
   "outputs": [
    {
     "data": {
      "text/plain": [
       "<matplotlib.text.Text at 0x33e72198>"
      ]
     },
     "execution_count": 177,
     "metadata": {},
     "output_type": "execute_result"
    },
    {
     "data": {
      "image/png": "[encoded data removed]",
      "text/plain": [
       "<matplotlib.figure.Figure at 0x345e7fd0>"
      ]
     },
     "metadata": {},
     "output_type": "display_data"
    }
   ],
   "source": [
    "feature_names = train_new.columns # e.g. ['A', 'B', 'C', 'D', 'E']\n",
    "\n",
    "f, ax = plt.subplots(figsize=(11, 9))\n",
    "plt.title(\"Feature ranking\", fontsize = 20)\n",
    "plt.bar(range(X_train.shape[1]), importances[indices],\n",
    "    color=\"b\", \n",
    "    align=\"center\")\n",
    "plt.xticks(range(X_train.shape[1]), feature_names)\n",
    "plt.xlim([-1, X_train.shape[1]])\n",
    "plt.ylabel(\"importance\", fontsize = 18)\n",
    "plt.xlabel(\"Name of the feature\", fontsize = 18)"
   ]
  },
  {
   "cell_type": "code",
   "execution_count": 183,
   "metadata": {},
   "outputs": [
    {
     "data": {
      "text/plain": [
       "Index([u'duration', u'protocol_type', u'service', u'flag', u'src_bytes',\n",
       "       u'dst_bytes', u'land', u'wrong_fragment', u'urgent', u'hot',\n",
       "       u'num_failed_logins', u'logged_in', u'num_compromised', u'root_shell',\n",
       "       u'su_attempted', u'num_root', u'num_file_creations', u'num_shells',\n",
       "       u'num_access_files', u'num_outbound_cmds', u'is_host_login',\n",
       "       u'is_guest_login', u'count', u'srv_count', u'serror_rate',\n",
       "       u'srv_serror_rate', u'rerror_rate', u'srv_rerror_rate',\n",
       "       u'same_srv_rate', u'diff_srv_rate', u'srv_diff_host_rate',\n",
       "       u'dst_host_count', u'dst_host_srv_count', u'dst_host_same_srv_rate',\n",
       "       u'dst_host_diff_srv_rate', u'dst_host_same_src_port_rate',\n",
       "       u'dst_host_srv_diff_host_rate', u'dst_host_serror_rate',\n",
       "       u'dst_host_srv_serror_rate', u'dst_host_rerror_rate',\n",
       "       u'dst_host_srv_rerror_rate', u'class'],\n",
       "      dtype='object')"
      ]
     },
     "execution_count": 183,
     "metadata": {},
     "output_type": "execute_result"
    }
   ],
   "source": [
    "train.columns"
   ]
  },
  {
   "cell_type": "code",
   "execution_count": 197,
   "metadata": {},
   "outputs": [
    {
     "data": {
      "text/html": [
       "<div>\n",
       "<table border=\"1\" class=\"dataframe\">\n",
       "  <thead>\n",
       "    <tr style=\"text-align: right;\">\n",
       "      <th>class</th>\n",
       "      <th>anomaly</th>\n",
       "      <th>normal</th>\n",
       "    </tr>\n",
       "    <tr>\n",
       "      <th>land</th>\n",
       "      <th></th>\n",
       "      <th></th>\n",
       "    </tr>\n",
       "  </thead>\n",
       "  <tbody>\n",
       "    <tr>\n",
       "      <th>0</th>\n",
       "      <td>11742</td>\n",
       "      <td>13448</td>\n",
       "    </tr>\n",
       "    <tr>\n",
       "      <th>1</th>\n",
       "      <td>1</td>\n",
       "      <td>1</td>\n",
       "    </tr>\n",
       "  </tbody>\n",
       "</table>\n",
       "</div>"
      ],
      "text/plain": [
       "class  anomaly  normal\n",
       "land                  \n",
       "0        11742   13448\n",
       "1            1       1"
      ]
     },
     "execution_count": 197,
     "metadata": {},
     "output_type": "execute_result"
    }
   ],
   "source": [
    "pd.crosstab(train['land'],train['class'], margins=False) #not important"
   ]
  },
  {
   "cell_type": "code",
   "execution_count": 191,
   "metadata": {},
   "outputs": [
    {
     "data": {
      "text/html": [
       "<div>\n",
       "<table border=\"1\" class=\"dataframe\">\n",
       "  <thead>\n",
       "    <tr style=\"text-align: right;\">\n",
       "      <th>class</th>\n",
       "      <th>anomaly</th>\n",
       "      <th>normal</th>\n",
       "    </tr>\n",
       "    <tr>\n",
       "      <th>duration</th>\n",
       "      <th></th>\n",
       "      <th></th>\n",
       "    </tr>\n",
       "  </thead>\n",
       "  <tbody>\n",
       "    <tr>\n",
       "      <th>False</th>\n",
       "      <td>248</td>\n",
       "      <td>505</td>\n",
       "    </tr>\n",
       "    <tr>\n",
       "      <th>True</th>\n",
       "      <td>11495</td>\n",
       "      <td>12944</td>\n",
       "    </tr>\n",
       "  </tbody>\n",
       "</table>\n",
       "</div>"
      ],
      "text/plain": [
       "class     anomaly  normal\n",
       "duration                 \n",
       "False         248     505\n",
       "True        11495   12944"
      ]
     },
     "execution_count": 191,
     "metadata": {},
     "output_type": "execute_result"
    }
   ],
   "source": [
    "pd.crosstab(train['duration']<50,train['class'], margins=False)\n",
    "# not important"
   ]
  },
  {
   "cell_type": "code",
   "execution_count": 192,
   "metadata": {},
   "outputs": [
    {
     "data": {
      "text/html": [
       "<div>\n",
       "<table border=\"1\" class=\"dataframe\">\n",
       "  <thead>\n",
       "    <tr style=\"text-align: right;\">\n",
       "      <th>class</th>\n",
       "      <th>anomaly</th>\n",
       "      <th>normal</th>\n",
       "    </tr>\n",
       "    <tr>\n",
       "      <th>src_bytes</th>\n",
       "      <th></th>\n",
       "      <th></th>\n",
       "    </tr>\n",
       "  </thead>\n",
       "  <tbody>\n",
       "    <tr>\n",
       "      <th>False</th>\n",
       "      <td>1023</td>\n",
       "      <td>10587</td>\n",
       "    </tr>\n",
       "    <tr>\n",
       "      <th>True</th>\n",
       "      <td>10720</td>\n",
       "      <td>2862</td>\n",
       "    </tr>\n",
       "  </tbody>\n",
       "</table>\n",
       "</div>"
      ],
      "text/plain": [
       "class      anomaly  normal\n",
       "src_bytes                 \n",
       "False         1023   10587\n",
       "True         10720    2862"
      ]
     },
     "execution_count": 192,
     "metadata": {},
     "output_type": "execute_result"
    }
   ],
   "source": [
    "pd.crosstab(train['src_bytes']<50,train['class'], margins=False)\n",
    "# important"
   ]
  },
  {
   "cell_type": "code",
   "execution_count": null,
   "metadata": {
    "collapsed": true
   },
   "outputs": [],
   "source": []
  }
 ],
 "metadata": {
  "anaconda-cloud": {},
  "kernelspec": {
   "display_name": "Python 2",
   "language": "python",
   "name": "python2"
  },
  "language_info": {
   "codemirror_mode": {
    "name": "ipython",
    "version": 2
   },
   "file_extension": ".py",
   "mimetype": "text/x-python",
   "name": "python",
   "nbconvert_exporter": "python",
   "pygments_lexer": "ipython2",
   "version": "2.7.14"
  }
 },
 "nbformat": 4,
 "nbformat_minor": 1
}
